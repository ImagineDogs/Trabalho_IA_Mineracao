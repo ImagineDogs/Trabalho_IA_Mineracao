{
  "cells": [
    {
      "cell_type": "markdown",
      "source": [
        "\n",
        "# Classificação de categoria de jogos da Steam\n",
        "## Projeto da disciplina SCC0230 - Inteligência Artificial\n",
        "Membros\n",
        "Alexandre Eduardo de Souza Jesus - alexandre_souza@usp.br - 12559506\n",
        "\n",
        "Arthur Santorum Lorenzetto - arts.lorenzetto@usp.br - 12559465\n",
        "\n",
        "Eduardo Zaffari Monteiro - eduardozaffarimonteiro@usp.br - 12559490(Vice-Líder)\n",
        "\n",
        "Gustavo Silva de Oliveira - gustavo.oliveira03@usp.br - 12567231 \n",
        "\n",
        "Lucas Ivars Cadima Ciziks - luciziks@usp.br - 125599472 \n",
        "\n",
        "Pedro Henrique de Freitas Maçonetto - pedromaconetto@usp.br - 12675419(Líder)\n",
        "\n",
        "Vitor Okubo Ianella - vitorok.03@gmail.com - 12559451\n"
      ],
      "metadata": {
        "id": "lAZ1EO9Paf5f"
      }
    },
    {
      "cell_type": "code",
      "execution_count": 21,
      "metadata": {
        "id": "W74TRR7p-Lcm"
      },
      "outputs": [],
      "source": [
        "import pandas as pd\n",
        "import numpy as np\n",
        "import statsmodels.api as sm\n",
        "from sklearn.neighbors import KNeighborsClassifier\n",
        "from sklearn.preprocessing import StandardScaler\n",
        "from sklearn.preprocessing import MinMaxScaler\n",
        "from sklearn import tree\n",
        "from sklearn.pipeline import make_pipeline\n",
        "from sklearn.neural_network import MLPClassifier\n",
        "from sklearn.metrics import confusion_matrix\n",
        "from sklearn.model_selection import train_test_split\n",
        "from sklearn.svm import SVC\n",
        "from sklearn.discriminant_analysis import LinearDiscriminantAnalysis\n",
        "import matplotlib.pyplot as plt"
      ]
    },
    {
      "cell_type": "code",
      "execution_count": 2,
      "metadata": {
        "id": "g2985obe-Lcn"
      },
      "outputs": [],
      "source": [
        "df = pd.read_csv('steam_metadados.csv')"
      ]
    },
    {
      "cell_type": "markdown",
      "source": [
        "---\n",
        "## Limpando Dados"
      ],
      "metadata": {
        "id": "QuO6kA8SO52u"
      }
    },
    {
      "cell_type": "code",
      "source": [
        "# Removendo colunas inúteis\n",
        "df.drop(columns=['appid','steamspy_tags','platforms','developer',\t'publisher','achievements'],inplace=True)"
      ],
      "metadata": {
        "id": "mEzLMN6sCJIl"
      },
      "execution_count": 3,
      "outputs": []
    },
    {
      "cell_type": "code",
      "source": [
        "# Removendo Nan(é apenas um jogo)\n",
        "df.dropna(inplace=True)"
      ],
      "metadata": {
        "id": "9uKZa2ZLFc3f"
      },
      "execution_count": 4,
      "outputs": []
    },
    {
      "cell_type": "code",
      "source": [
        "# Iremos utilizar classificação apenas para o primeiro gênero\n",
        "df['genres'] = df['genres'].apply(lambda x: str(x).split(';')[0])"
      ],
      "metadata": {
        "id": "pQd5zptqAo72"
      },
      "execution_count": 5,
      "outputs": []
    },
    {
      "cell_type": "code",
      "source": [
        "# Total de avaliações de um jogo\n",
        "df['total_ratings'] = df['positive_ratings'] + df['negative_ratings'] "
      ],
      "metadata": {
        "id": "P1JyX1mLB6oB"
      },
      "execution_count": 6,
      "outputs": []
    },
    {
      "cell_type": "code",
      "source": [
        "# Reestruturando valores de idade mínima\n",
        "def age_transform(age):\n",
        "  age = int(age)\n",
        "  if age == 3 or age == 7:\n",
        "    return 0\n",
        "  else:\n",
        "    return age\n",
        "  \n",
        "df['required_age'] = df['required_age'].apply(age_transform)"
      ],
      "metadata": {
        "id": "Ph_-17IoGM_8"
      },
      "execution_count": 7,
      "outputs": []
    },
    {
      "cell_type": "code",
      "source": [
        "# Jogo Singleplayer ou Multiplayer\n",
        "def multi_or_single(cat):\n",
        "  cat = str(cat).split(';')\n",
        "  if 'Multi-player' in cat:\n",
        "    return 1 # Multiplayer\n",
        "  else:\n",
        "    return 0 # Singleplayer\n",
        "\n",
        "df['type']=df['categories'].apply(multi_or_single)\n",
        "del df['categories']"
      ],
      "metadata": {
        "id": "7ULdVXTQHy7p"
      },
      "execution_count": 8,
      "outputs": []
    },
    {
      "cell_type": "code",
      "source": [
        "# Estimativa do número de compradores\n",
        "def media_comprador(texto):\n",
        "    txt_min, txt_max = texto.split('-')\n",
        "    return (int(txt_max) + int(txt_min))/2\n",
        "    \n",
        "df['owners'] =  df['owners'].apply(media_comprador)"
      ],
      "metadata": {
        "id": "ta2DwA8LKkix"
      },
      "execution_count": 9,
      "outputs": []
    },
    {
      "cell_type": "code",
      "source": [
        "# Ano de lançamento \n",
        "df['year_release'] = df['release_date'].apply(lambda x: str(x).split('-')[0])"
      ],
      "metadata": {
        "id": "6u8ZQFgGYTBo"
      },
      "execution_count": 10,
      "outputs": []
    },
    {
      "cell_type": "markdown",
      "source": [
        "---\n",
        "## DataFrame Limpo:"
      ],
      "metadata": {
        "id": "VMtEcQPiO371"
      }
    },
    {
      "cell_type": "code",
      "source": [
        "strat = (df.groupby('genres').count()/df.shape[0])['name']"
      ],
      "metadata": {
        "id": "-6rS2OsznbXV"
      },
      "execution_count": 38,
      "outputs": []
    },
    {
      "cell_type": "code",
      "source": [
        "y.value_counts()"
      ],
      "metadata": {
        "colab": {
          "base_uri": "https://localhost:8080/"
        },
        "id": "AqPuVwfooeVQ",
        "outputId": "32315c9e-d97f-4801-b3a4-e6a29387109c"
      },
      "execution_count": 53,
      "outputs": [
        {
          "output_type": "execute_result",
          "data": {
            "text/plain": [
              "Action                   6037\n",
              "Adventure                2633\n",
              "Casual                   1996\n",
              "Indie                    1329\n",
              "Violent                   459\n",
              "Strategy                  400\n",
              "Simulation                389\n",
              "RPG                       260\n",
              "Free to Play              194\n",
              "Sexual Content            136\n",
              "Racing                    132\n",
              "Nudity                     83\n",
              "Gore                       50\n",
              "Sports                     49\n",
              "Animation & Modeling       37\n",
              "Utilities                  24\n",
              "Design & Illustration      19\n",
              "Education                  11\n",
              "Massively Multiplayer       9\n",
              "Early Access                7\n",
              "Audio Production            6\n",
              "Accounting                  2\n",
              "Video Production            2\n",
              "Name: genres, dtype: int64"
            ]
          },
          "metadata": {},
          "execution_count": 53
        }
      ]
    },
    {
      "cell_type": "code",
      "source": [
        "y_train.value_counts()"
      ],
      "metadata": {
        "colab": {
          "base_uri": "https://localhost:8080/"
        },
        "id": "xbYk3g4Qq1NF",
        "outputId": "54b5906c-9244-4382-f746-56fbedfc51bb"
      },
      "execution_count": 64,
      "outputs": [
        {
          "output_type": "execute_result",
          "data": {
            "text/plain": [
              "Action                   4829\n",
              "Adventure                2106\n",
              "Casual                   1597\n",
              "Indie                    1063\n",
              "Violent                   367\n",
              "Strategy                  320\n",
              "Simulation                311\n",
              "RPG                       208\n",
              "Free to Play              155\n",
              "Sexual Content            109\n",
              "Racing                    106\n",
              "Nudity                     66\n",
              "Gore                       40\n",
              "Sports                     39\n",
              "Animation & Modeling       30\n",
              "Utilities                  19\n",
              "Design & Illustration      15\n",
              "Education                   9\n",
              "Massively Multiplayer       7\n",
              "Early Access                6\n",
              "Audio Production            5\n",
              "Video Production            2\n",
              "Accounting                  2\n",
              "Name: genres, dtype: int64"
            ]
          },
          "metadata": {},
          "execution_count": 64
        }
      ]
    },
    {
      "cell_type": "code",
      "source": [
        "indice = df[ (df['genres'] == 'Software Training') | (df['genres'] == 'Photo Editing') | (df['genres'] == 'Web Publishing')].index\n",
        "df.drop(indice , inplace=True)"
      ],
      "metadata": {
        "id": "GRAQQnpspQ8F"
      },
      "execution_count": 50,
      "outputs": []
    },
    {
      "cell_type": "code",
      "source": [
        "df.head()"
      ],
      "metadata": {
        "colab": {
          "base_uri": "https://localhost:8080/",
          "height": 391
        },
        "id": "ikZphgffPlU6",
        "outputId": "c7c1032b-cc43-4aec-c08e-6342d6863735"
      },
      "execution_count": 11,
      "outputs": [
        {
          "output_type": "execute_result",
          "data": {
            "text/plain": [
              "                        name release_date  english  required_age  genres  \\\n",
              "0             Counter-Strike   2000-11-01        1             0  Action   \n",
              "1      Team Fortress Classic   1999-04-01        1             0  Action   \n",
              "2              Day of Defeat   2003-05-01        1             0  Action   \n",
              "3         Deathmatch Classic   2001-06-01        1             0  Action   \n",
              "4  Half-Life: Opposing Force   1999-11-01        1             0  Action   \n",
              "\n",
              "   positive_ratings  negative_ratings  average_playtime median_playtime  \\\n",
              "0          124534.0            3339.0           17612.0             317   \n",
              "1            3318.0             633.0             277.0              62   \n",
              "2            3416.0             398.0             187.0              34   \n",
              "3            1273.0             267.0             258.0             184   \n",
              "4            5250.0             288.0             624.0             415   \n",
              "\n",
              "       owners  price  total_ratings  type year_release  \n",
              "0  15000000.0   7.19       127873.0     1         2000  \n",
              "1   7500000.0   3.99         3951.0     1         1999  \n",
              "2   7500000.0   3.99         3814.0     1         2003  \n",
              "3   7500000.0   3.99         1540.0     1         2001  \n",
              "4   7500000.0   3.99         5538.0     1         1999  "
            ],
            "text/html": [
              "\n",
              "  <div id=\"df-860df9a3-f120-405c-bd1c-e8bfe15ca8e6\">\n",
              "    <div class=\"colab-df-container\">\n",
              "      <div>\n",
              "<style scoped>\n",
              "    .dataframe tbody tr th:only-of-type {\n",
              "        vertical-align: middle;\n",
              "    }\n",
              "\n",
              "    .dataframe tbody tr th {\n",
              "        vertical-align: top;\n",
              "    }\n",
              "\n",
              "    .dataframe thead th {\n",
              "        text-align: right;\n",
              "    }\n",
              "</style>\n",
              "<table border=\"1\" class=\"dataframe\">\n",
              "  <thead>\n",
              "    <tr style=\"text-align: right;\">\n",
              "      <th></th>\n",
              "      <th>name</th>\n",
              "      <th>release_date</th>\n",
              "      <th>english</th>\n",
              "      <th>required_age</th>\n",
              "      <th>genres</th>\n",
              "      <th>positive_ratings</th>\n",
              "      <th>negative_ratings</th>\n",
              "      <th>average_playtime</th>\n",
              "      <th>median_playtime</th>\n",
              "      <th>owners</th>\n",
              "      <th>price</th>\n",
              "      <th>total_ratings</th>\n",
              "      <th>type</th>\n",
              "      <th>year_release</th>\n",
              "    </tr>\n",
              "  </thead>\n",
              "  <tbody>\n",
              "    <tr>\n",
              "      <th>0</th>\n",
              "      <td>Counter-Strike</td>\n",
              "      <td>2000-11-01</td>\n",
              "      <td>1</td>\n",
              "      <td>0</td>\n",
              "      <td>Action</td>\n",
              "      <td>124534.0</td>\n",
              "      <td>3339.0</td>\n",
              "      <td>17612.0</td>\n",
              "      <td>317</td>\n",
              "      <td>15000000.0</td>\n",
              "      <td>7.19</td>\n",
              "      <td>127873.0</td>\n",
              "      <td>1</td>\n",
              "      <td>2000</td>\n",
              "    </tr>\n",
              "    <tr>\n",
              "      <th>1</th>\n",
              "      <td>Team Fortress Classic</td>\n",
              "      <td>1999-04-01</td>\n",
              "      <td>1</td>\n",
              "      <td>0</td>\n",
              "      <td>Action</td>\n",
              "      <td>3318.0</td>\n",
              "      <td>633.0</td>\n",
              "      <td>277.0</td>\n",
              "      <td>62</td>\n",
              "      <td>7500000.0</td>\n",
              "      <td>3.99</td>\n",
              "      <td>3951.0</td>\n",
              "      <td>1</td>\n",
              "      <td>1999</td>\n",
              "    </tr>\n",
              "    <tr>\n",
              "      <th>2</th>\n",
              "      <td>Day of Defeat</td>\n",
              "      <td>2003-05-01</td>\n",
              "      <td>1</td>\n",
              "      <td>0</td>\n",
              "      <td>Action</td>\n",
              "      <td>3416.0</td>\n",
              "      <td>398.0</td>\n",
              "      <td>187.0</td>\n",
              "      <td>34</td>\n",
              "      <td>7500000.0</td>\n",
              "      <td>3.99</td>\n",
              "      <td>3814.0</td>\n",
              "      <td>1</td>\n",
              "      <td>2003</td>\n",
              "    </tr>\n",
              "    <tr>\n",
              "      <th>3</th>\n",
              "      <td>Deathmatch Classic</td>\n",
              "      <td>2001-06-01</td>\n",
              "      <td>1</td>\n",
              "      <td>0</td>\n",
              "      <td>Action</td>\n",
              "      <td>1273.0</td>\n",
              "      <td>267.0</td>\n",
              "      <td>258.0</td>\n",
              "      <td>184</td>\n",
              "      <td>7500000.0</td>\n",
              "      <td>3.99</td>\n",
              "      <td>1540.0</td>\n",
              "      <td>1</td>\n",
              "      <td>2001</td>\n",
              "    </tr>\n",
              "    <tr>\n",
              "      <th>4</th>\n",
              "      <td>Half-Life: Opposing Force</td>\n",
              "      <td>1999-11-01</td>\n",
              "      <td>1</td>\n",
              "      <td>0</td>\n",
              "      <td>Action</td>\n",
              "      <td>5250.0</td>\n",
              "      <td>288.0</td>\n",
              "      <td>624.0</td>\n",
              "      <td>415</td>\n",
              "      <td>7500000.0</td>\n",
              "      <td>3.99</td>\n",
              "      <td>5538.0</td>\n",
              "      <td>1</td>\n",
              "      <td>1999</td>\n",
              "    </tr>\n",
              "  </tbody>\n",
              "</table>\n",
              "</div>\n",
              "      <button class=\"colab-df-convert\" onclick=\"convertToInteractive('df-860df9a3-f120-405c-bd1c-e8bfe15ca8e6')\"\n",
              "              title=\"Convert this dataframe to an interactive table.\"\n",
              "              style=\"display:none;\">\n",
              "        \n",
              "  <svg xmlns=\"http://www.w3.org/2000/svg\" height=\"24px\"viewBox=\"0 0 24 24\"\n",
              "       width=\"24px\">\n",
              "    <path d=\"M0 0h24v24H0V0z\" fill=\"none\"/>\n",
              "    <path d=\"M18.56 5.44l.94 2.06.94-2.06 2.06-.94-2.06-.94-.94-2.06-.94 2.06-2.06.94zm-11 1L8.5 8.5l.94-2.06 2.06-.94-2.06-.94L8.5 2.5l-.94 2.06-2.06.94zm10 10l.94 2.06.94-2.06 2.06-.94-2.06-.94-.94-2.06-.94 2.06-2.06.94z\"/><path d=\"M17.41 7.96l-1.37-1.37c-.4-.4-.92-.59-1.43-.59-.52 0-1.04.2-1.43.59L10.3 9.45l-7.72 7.72c-.78.78-.78 2.05 0 2.83L4 21.41c.39.39.9.59 1.41.59.51 0 1.02-.2 1.41-.59l7.78-7.78 2.81-2.81c.8-.78.8-2.07 0-2.86zM5.41 20L4 18.59l7.72-7.72 1.47 1.35L5.41 20z\"/>\n",
              "  </svg>\n",
              "      </button>\n",
              "      \n",
              "  <style>\n",
              "    .colab-df-container {\n",
              "      display:flex;\n",
              "      flex-wrap:wrap;\n",
              "      gap: 12px;\n",
              "    }\n",
              "\n",
              "    .colab-df-convert {\n",
              "      background-color: #E8F0FE;\n",
              "      border: none;\n",
              "      border-radius: 50%;\n",
              "      cursor: pointer;\n",
              "      display: none;\n",
              "      fill: #1967D2;\n",
              "      height: 32px;\n",
              "      padding: 0 0 0 0;\n",
              "      width: 32px;\n",
              "    }\n",
              "\n",
              "    .colab-df-convert:hover {\n",
              "      background-color: #E2EBFA;\n",
              "      box-shadow: 0px 1px 2px rgba(60, 64, 67, 0.3), 0px 1px 3px 1px rgba(60, 64, 67, 0.15);\n",
              "      fill: #174EA6;\n",
              "    }\n",
              "\n",
              "    [theme=dark] .colab-df-convert {\n",
              "      background-color: #3B4455;\n",
              "      fill: #D2E3FC;\n",
              "    }\n",
              "\n",
              "    [theme=dark] .colab-df-convert:hover {\n",
              "      background-color: #434B5C;\n",
              "      box-shadow: 0px 1px 3px 1px rgba(0, 0, 0, 0.15);\n",
              "      filter: drop-shadow(0px 1px 2px rgba(0, 0, 0, 0.3));\n",
              "      fill: #FFFFFF;\n",
              "    }\n",
              "  </style>\n",
              "\n",
              "      <script>\n",
              "        const buttonEl =\n",
              "          document.querySelector('#df-860df9a3-f120-405c-bd1c-e8bfe15ca8e6 button.colab-df-convert');\n",
              "        buttonEl.style.display =\n",
              "          google.colab.kernel.accessAllowed ? 'block' : 'none';\n",
              "\n",
              "        async function convertToInteractive(key) {\n",
              "          const element = document.querySelector('#df-860df9a3-f120-405c-bd1c-e8bfe15ca8e6');\n",
              "          const dataTable =\n",
              "            await google.colab.kernel.invokeFunction('convertToInteractive',\n",
              "                                                     [key], {});\n",
              "          if (!dataTable) return;\n",
              "\n",
              "          const docLinkHtml = 'Like what you see? Visit the ' +\n",
              "            '<a target=\"_blank\" href=https://colab.research.google.com/notebooks/data_table.ipynb>data table notebook</a>'\n",
              "            + ' to learn more about interactive tables.';\n",
              "          element.innerHTML = '';\n",
              "          dataTable['output_type'] = 'display_data';\n",
              "          await google.colab.output.renderOutput(dataTable, element);\n",
              "          const docLink = document.createElement('div');\n",
              "          docLink.innerHTML = docLinkHtml;\n",
              "          element.appendChild(docLink);\n",
              "        }\n",
              "      </script>\n",
              "    </div>\n",
              "  </div>\n",
              "  "
            ]
          },
          "metadata": {},
          "execution_count": 11
        }
      ]
    },
    {
      "cell_type": "markdown",
      "source": [
        "---\n",
        "## Modelo de KNN para os dados:"
      ],
      "metadata": {
        "id": "268nTlXXcotA"
      }
    },
    {
      "cell_type": "code",
      "source": [
        "y = df['genres']\n",
        "X = df[['english', 'type', 'total_ratings', 'owners', 'price', 'median_playtime', 'year_release']]\n",
        "X_train, X_test, y_train, y_test = train_test_split(X, y, test_size=0.2, random_state=42,stratify=y)\n",
        "n_neighbors = 1"
      ],
      "metadata": {
        "id": "RyAGbYRKO4a0"
      },
      "execution_count": 52,
      "outputs": []
    },
    {
      "cell_type": "markdown",
      "source": [
        "### Scree-plot para definir o K"
      ],
      "metadata": {
        "id": "tmFXOOMjct1w"
      }
    },
    {
      "cell_type": "code",
      "source": [
        "scores = []\n",
        "for i in range(1,150,1):\n",
        "  neigh = KNeighborsClassifier(n_neighbors=i)\n",
        "  neigh.fit(X_train, y_train)\n",
        "  score = neigh.score(X_test,y_test,sample_weight=None)\n",
        "  scores.append(score)"
      ],
      "metadata": {
        "id": "MUGgsICOZUCD"
      },
      "execution_count": 61,
      "outputs": []
    },
    {
      "cell_type": "code",
      "source": [
        "plt.plot(range(1,150,1),scores)"
      ],
      "metadata": {
        "colab": {
          "base_uri": "https://localhost:8080/",
          "height": 282
        },
        "id": "k_Sd3Ci0ZlkG",
        "outputId": "29dd7c60-3029-4a8a-e4fd-06a5d56e1ef2"
      },
      "execution_count": 62,
      "outputs": [
        {
          "output_type": "execute_result",
          "data": {
            "text/plain": [
              "[<matplotlib.lines.Line2D at 0x7f82b2624580>]"
            ]
          },
          "metadata": {},
          "execution_count": 62
        },
        {
          "output_type": "display_data",
          "data": {
            "text/plain": [
              "<Figure size 432x288 with 1 Axes>"
            ],
            "image/png": "[encoded data removed]"
          },
          "metadata": {
            "needs_background": "light"
          }
        }
      ]
    },
    {
      "cell_type": "markdown",
      "source": [
        "## Modelo de árvore de decisão para os dados:"
      ],
      "metadata": {
        "id": "kzXN9gvnc0Ud"
      }
    },
    {
      "cell_type": "code",
      "source": [
        "clf = tree.DecisionTreeClassifier()\n",
        "clf.fit(X_train, y_train)\n",
        "y_pred = clf.predict(X_test)\n",
        "clf.score(X_test,y_test,sample_weight=None)"
      ],
      "metadata": {
        "colab": {
          "base_uri": "https://localhost:8080/"
        },
        "id": "I5K3MYYnc5Vp",
        "outputId": "b62a8011-4391-4001-ce80-48a13e5da471"
      },
      "execution_count": 56,
      "outputs": [
        {
          "output_type": "execute_result",
          "data": {
            "text/plain": [
              "0.31580792148615494"
            ]
          },
          "metadata": {},
          "execution_count": 56
        }
      ]
    },
    {
      "cell_type": "markdown",
      "source": [
        "---\n",
        "Linear Discriminant"
      ],
      "metadata": {
        "id": "-Ig8MfVmf5Ao"
      }
    },
    {
      "cell_type": "code",
      "source": [
        "clf = LinearDiscriminantAnalysis()\n",
        "clf.fit(X_train, y_train)\n",
        "y_pred = clf.predict(X_test)\n",
        "clf.score(X_test,y_test,sample_weight=None)"
      ],
      "metadata": {
        "colab": {
          "base_uri": "https://localhost:8080/"
        },
        "id": "HWy7xJ_Sf5Xb",
        "outputId": "71a5dd3f-8e88-46b0-d2cd-b1cbc45161d7"
      },
      "execution_count": 57,
      "outputs": [
        {
          "output_type": "execute_result",
          "data": {
            "text/plain": [
              "0.416403785488959"
            ]
          },
          "metadata": {},
          "execution_count": 57
        }
      ]
    },
    {
      "cell_type": "markdown",
      "source": [
        "---\n",
        "SVM"
      ],
      "metadata": {
        "id": "IlW0x8hAgtuA"
      }
    },
    {
      "cell_type": "code",
      "source": [
        "clf = make_pipeline(MinMaxScaler(), SVC(gamma='auto'))\n",
        "clf.fit(X_train, y_train)\n",
        "y_pred = clf.predict(X_test)\n",
        "clf.score(X_test,y_test,sample_weight=None)"
      ],
      "metadata": {
        "colab": {
          "base_uri": "https://localhost:8080/"
        },
        "id": "kCl_M4_xhXcp",
        "outputId": "d1a9c2da-9150-4d62-af31-8a8504fd7d81"
      },
      "execution_count": 58,
      "outputs": [
        {
          "output_type": "execute_result",
          "data": {
            "text/plain": [
              "0.42481598317560465"
            ]
          },
          "metadata": {},
          "execution_count": 58
        }
      ]
    }
  ],
  "metadata": {
    "kernelspec": {
      "display_name": "Python 3.10.8 64-bit (microsoft store)",
      "language": "python",
      "name": "python3"
    },
    "language_info": {
      "codemirror_mode": {
        "name": "ipython",
        "version": 3
      },
      "file_extension": ".py",
      "mimetype": "text/x-python",
      "name": "python",
      "nbconvert_exporter": "python",
      "pygments_lexer": "ipython3",
      "version": "3.10.8"
    },
    "orig_nbformat": 4,
    "vscode": {
      "interpreter": {
        "hash": "67ed81ff52876af7bd8a0aa7e6122df8fe03d1a0c95153b294d8edcf484dd9b3"
      }
    },
    "colab": {
      "provenance": []
    }
  },
  "nbformat": 4,
  "nbformat_minor": 0
}